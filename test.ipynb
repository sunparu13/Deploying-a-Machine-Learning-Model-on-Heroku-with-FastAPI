{
 "cells": [
  {
   "cell_type": "code",
   "execution_count": 1,
   "metadata": {},
   "outputs": [],
   "source": [
    "import pandas as pd\n",
    "from fastapi import FastAPI\n",
    "from pydantic import BaseModel, Field\n",
    "\n",
    "class FeatureConfig(BaseModel):\n",
    "    age: int\n",
    "    workclass: str\n",
    "    fnlgt: int\n",
    "    education: str\n",
    "    education_num: int = Field(alias=\"education-num\")\n",
    "    marital_status: str = Field(alias=\"marital-status\")\n",
    "    occupation: str\n",
    "    relationship: str\n",
    "    race: str\n",
    "    sex: str\n",
    "    capital_gain: int = Field(alias=\"capital-gain\")\n",
    "    capital_loss: int = Field(alias=\"capital-loss\")\n",
    "    hours_per_week: int = Field(alias=\"hours-per-week\")\n",
    "    native_country: str = Field(alias=\"native-country\")"
   ]
  },
  {
   "cell_type": "code",
   "execution_count": 15,
   "metadata": {},
   "outputs": [],
   "source": [
    "def inference_main(features: FeatureConfig):\n",
    "    features = features.dict()\n",
    "    df = pd.DataFrame(data=features.values(), index=features.keys())\n",
    "    return {\"df\": df}"
   ]
  },
  {
   "cell_type": "code",
   "execution_count": 16,
   "metadata": {},
   "outputs": [
    {
     "ename": "TypeError",
     "evalue": "dict() takes exactly 1 positional argument (0 given)",
     "output_type": "error",
     "traceback": [
      "\u001b[0;31m---------------------------------------------------------------------------\u001b[0m",
      "\u001b[0;31mTypeError\u001b[0m                                 Traceback (most recent call last)",
      "Cell \u001b[0;32mIn [16], line 1\u001b[0m\n\u001b[0;32m----> 1\u001b[0m df \u001b[39m=\u001b[39m inference_main(FeatureConfig)\n",
      "Cell \u001b[0;32mIn [15], line 2\u001b[0m, in \u001b[0;36minference_main\u001b[0;34m(features)\u001b[0m\n\u001b[1;32m      1\u001b[0m \u001b[39mdef\u001b[39;00m \u001b[39minference_main\u001b[39m(features: FeatureConfig):\n\u001b[0;32m----> 2\u001b[0m     features \u001b[39m=\u001b[39m features\u001b[39m.\u001b[39;49mdict()\n\u001b[1;32m      3\u001b[0m     df \u001b[39m=\u001b[39m pd\u001b[39m.\u001b[39mDataFrame(data\u001b[39m=\u001b[39mfeatures\u001b[39m.\u001b[39mvalues(), index\u001b[39m=\u001b[39mfeatures\u001b[39m.\u001b[39mkeys())\n\u001b[1;32m      4\u001b[0m     \u001b[39mreturn\u001b[39;00m {\u001b[39m\"\u001b[39m\u001b[39mdf\u001b[39m\u001b[39m\"\u001b[39m: df}\n",
      "File \u001b[0;32m~/miniforge3/envs/project3/lib/python3.8/site-packages/pydantic/main.py:428\u001b[0m, in \u001b[0;36mpydantic.main.BaseModel.dict\u001b[0;34m()\u001b[0m\n",
      "\u001b[0;31mTypeError\u001b[0m: dict() takes exactly 1 positional argument (0 given)"
     ]
    }
   ],
   "source": [
    "df = inference_main(FeatureConfig)"
   ]
  },
  {
   "cell_type": "code",
   "execution_count": 13,
   "metadata": {},
   "outputs": [
    {
     "ename": "ValidationError",
     "evalue": "14 validation errors for FeatureConfig\nage\n  field required (type=value_error.missing)\nworkclass\n  field required (type=value_error.missing)\nfnlgt\n  field required (type=value_error.missing)\neducation\n  field required (type=value_error.missing)\neducation-num\n  field required (type=value_error.missing)\nmarital-status\n  field required (type=value_error.missing)\noccupation\n  field required (type=value_error.missing)\nrelationship\n  field required (type=value_error.missing)\nrace\n  field required (type=value_error.missing)\nsex\n  field required (type=value_error.missing)\ncapital-gain\n  field required (type=value_error.missing)\ncapital-loss\n  field required (type=value_error.missing)\nhours-per-week\n  field required (type=value_error.missing)\nnative-country\n  field required (type=value_error.missing)",
     "output_type": "error",
     "traceback": [
      "\u001b[0;31m---------------------------------------------------------------------------\u001b[0m",
      "\u001b[0;31mValidationError\u001b[0m                           Traceback (most recent call last)",
      "Cell \u001b[0;32mIn [13], line 1\u001b[0m\n\u001b[0;32m----> 1\u001b[0m a,b \u001b[39m=\u001b[39mFeatureConfig()\u001b[39m.\u001b[39mdict()\u001b[39m.\u001b[39mitems()\n",
      "File \u001b[0;32m~/miniforge3/envs/project3/lib/python3.8/site-packages/pydantic/main.py:342\u001b[0m, in \u001b[0;36mpydantic.main.BaseModel.__init__\u001b[0;34m()\u001b[0m\n",
      "\u001b[0;31mValidationError\u001b[0m: 14 validation errors for FeatureConfig\nage\n  field required (type=value_error.missing)\nworkclass\n  field required (type=value_error.missing)\nfnlgt\n  field required (type=value_error.missing)\neducation\n  field required (type=value_error.missing)\neducation-num\n  field required (type=value_error.missing)\nmarital-status\n  field required (type=value_error.missing)\noccupation\n  field required (type=value_error.missing)\nrelationship\n  field required (type=value_error.missing)\nrace\n  field required (type=value_error.missing)\nsex\n  field required (type=value_error.missing)\ncapital-gain\n  field required (type=value_error.missing)\ncapital-loss\n  field required (type=value_error.missing)\nhours-per-week\n  field required (type=value_error.missing)\nnative-country\n  field required (type=value_error.missing)"
     ]
    }
   ],
   "source": [
    "a,b =FeatureConfig().dict().items()"
   ]
  },
  {
   "cell_type": "code",
   "execution_count": null,
   "metadata": {},
   "outputs": [],
   "source": []
  }
 ],
 "metadata": {
  "kernelspec": {
   "display_name": "Python 3.8.13 ('project3')",
   "language": "python",
   "name": "python3"
  },
  "language_info": {
   "codemirror_mode": {
    "name": "ipython",
    "version": 3
   },
   "file_extension": ".py",
   "mimetype": "text/x-python",
   "name": "python",
   "nbconvert_exporter": "python",
   "pygments_lexer": "ipython3",
   "version": "3.8.13"
  },
  "orig_nbformat": 4,
  "vscode": {
   "interpreter": {
    "hash": "a6f710864dad1a6b91e2b09b1c4a8ed3f75a70351174c077fafacdb778dfc034"
   }
  }
 },
 "nbformat": 4,
 "nbformat_minor": 2
}
